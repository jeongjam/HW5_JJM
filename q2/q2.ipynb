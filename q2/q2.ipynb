{
 "cells": [
  {
   "cell_type": "code",
   "execution_count": 2,
   "id": "bf9a7e74",
   "metadata": {},
   "outputs": [
    {
     "name": "stdout",
     "output_type": "stream",
     "text": [
      "*** Annual Temperature Report for Seoul in 2022 ***\n",
      "Day with the Largest Temperature Variation: 2022-11-29\n",
      "Maximum Temperature Difference: 16.6\n",
      "Day with the Smallest Temperature Variation: 2022-06-29\n",
      "Minimum Temperature Difference: 1.7\n"
     ]
    }
   ],
   "source": [
    "import csv\n",
    "\n",
    "def main():\n",
    "    f = open('2022_Seoul_Temp.csv', 'r', encoding='cp949')\n",
    "    data = csv.reader(f, delimiter=',')\n",
    "    header = next(data)\n",
    "    max=0\n",
    "    min=999\n",
    "    max_str=\" \"\n",
    "    min_str=\" \"\n",
    "    \n",
    "    for row in data:\n",
    "        if row[-3]=='' or row[-2]=='' or row[-1]=='':\n",
    "            row[-3]=0\n",
    "            row[-2]=0\n",
    "            row[-1]=0\n",
    "        else:\n",
    "            row[-1] = float(row[-1])\n",
    "            row[-2] = float(row[-2])\n",
    "            if row[-1]-row[-2]>max:\n",
    "                max_str = row[0]\n",
    "                max = row[-1]-row[-2]\n",
    "            if row[-1]-row[-2]<min:\n",
    "                min_str = row[0]\n",
    "                min = row[-1]-row[-2]\n",
    "        \n",
    "        \n",
    "        \n",
    "    print(\"*** Annual Temperature Report for Seoul in 2022 ***\")\n",
    "    print(\"Day with the Largest Temperature Variation: {0:s}\".format(max_str))\n",
    "    print(\"Maximum Temperature Difference: {0:.1f}\".format(max))\n",
    "    print(\"Day with the Smallest Temperature Variation: {0:s}\".format(min_str))\n",
    "    print(\"Minimum Temperature Difference: {0:.1f}\".format(min))\n",
    "\n",
    "if __name__==\"__main__\":\n",
    "    main()"
   ]
  },
  {
   "cell_type": "code",
   "execution_count": null,
   "id": "acba626e",
   "metadata": {},
   "outputs": [],
   "source": []
  }
 ],
 "metadata": {
  "kernelspec": {
   "display_name": "Python 3 (ipykernel)",
   "language": "python",
   "name": "python3"
  },
  "language_info": {
   "codemirror_mode": {
    "name": "ipython",
    "version": 3
   },
   "file_extension": ".py",
   "mimetype": "text/x-python",
   "name": "python",
   "nbconvert_exporter": "python",
   "pygments_lexer": "ipython3",
   "version": "3.9.13"
  }
 },
 "nbformat": 4,
 "nbformat_minor": 5
}
