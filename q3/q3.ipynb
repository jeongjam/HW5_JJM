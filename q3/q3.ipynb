{
 "cells": [
  {
   "cell_type": "code",
   "execution_count": 7,
   "id": "24311422",
   "metadata": {},
   "outputs": [
    {
     "name": "stdout",
     "output_type": "stream",
     "text": [
      "*** Subway Report for Seoul on March 2023 ***\n",
      "1st Busiest Line: Line 2 (85620512)\n",
      "2nd Busiest Line: Line 5 (39671990)\n",
      "1st Least used Line: Line 8 (11863928)\n",
      "2nd Least used Line: Line 6 (21057032)\n"
     ]
    }
   ],
   "source": [
    "import csv\n",
    "\n",
    "def main():\n",
    "    f=open('202303_Seoul_Subway.csv','r', encoding = 'utf-8')\n",
    "    data = csv.reader(f,delimiter=',')\n",
    "    header=next(data)\n",
    "    \n",
    "    a=[0,0,0,0,0,0,0,0,0]\n",
    "    max_1st=0\n",
    "    max_2nd=0\n",
    "    min_1st=999999999\n",
    "    min_2nd=999999999\n",
    "    max_1st_line=0\n",
    "    max_2nd_line=0\n",
    "    min_1st_line=0\n",
    "    min_2nd_line=0\n",
    "    count=1\n",
    "    \n",
    "    for row in data:\n",
    "        str = row[1]\n",
    "        row[-3] = int(row[-3])\n",
    "        row[-2] = int(row[-2])\n",
    "        if str[0]=='1':\n",
    "            a[0] = a[0] + row[-2] + row[-3]\n",
    "        if str[0]=='2':\n",
    "            a[1] = a[1] + row[-2] + row[-3]\n",
    "        if str[0]=='3':\n",
    "            a[2] = a[2] + row[-2] + row[-3]\n",
    "        if str[0]=='4':\n",
    "            a[3] = a[3] + row[-2] + row[-3]\n",
    "        if str[0]=='5':\n",
    "            a[4] = a[4] + row[-2] + row[-3]\n",
    "        if str[0]=='6':\n",
    "            a[5] = a[5] + row[-2] + row[-3]\n",
    "        if str[0]=='7':\n",
    "            a[6] = a[6] + row[-2] + row[-3]\n",
    "        if str[0]=='8':\n",
    "            a[7] = a[7] + row[-2] + row[-3]\n",
    "        if str[0]=='9':\n",
    "            a[8] = a[8] + row[-2] + row[-3]\n",
    "            \n",
    "    for i in a:\n",
    "        if i>max_1st:\n",
    "            max_1st=i\n",
    "            max_1st_line=count\n",
    "        elif i<max_1st and i>max_2nd:\n",
    "            max_2nd=i\n",
    "            max_2nd_line=count\n",
    "        \n",
    "        if i<min_1st:\n",
    "            min_1st=i\n",
    "            min_1st_line = count\n",
    "        elif i>min_1st and i<min_2nd:\n",
    "            min_2nd=i\n",
    "            min_2nd_line = count\n",
    "            \n",
    "        count= count+1\n",
    "            \n",
    "    print(\"*** Subway Report for Seoul on March 2023 ***\")\n",
    "    print(\"1st Busiest Line: Line {0:d} ({1:d})\".format(max_1st_line, max_1st))\n",
    "    print(\"2nd Busiest Line: Line {0:d} ({1:d})\".format(max_2nd_line, max_2nd))\n",
    "    print(\"1st Least used Line: Line {0:d} ({1:d})\".format(min_1st_line, min_1st))\n",
    "    print(\"2nd Least used Line: Line {0:d} ({1:d})\".format(min_2nd_line, min_2nd))\n",
    "if __name__==\"__main__\":\n",
    "    main()"
   ]
  },
  {
   "cell_type": "code",
   "execution_count": null,
   "id": "5aa4eed0",
   "metadata": {},
   "outputs": [],
   "source": []
  }
 ],
 "metadata": {
  "kernelspec": {
   "display_name": "Python 3 (ipykernel)",
   "language": "python",
   "name": "python3"
  },
  "language_info": {
   "codemirror_mode": {
    "name": "ipython",
    "version": 3
   },
   "file_extension": ".py",
   "mimetype": "text/x-python",
   "name": "python",
   "nbconvert_exporter": "python",
   "pygments_lexer": "ipython3",
   "version": "3.9.13"
  }
 },
 "nbformat": 4,
 "nbformat_minor": 5
}
