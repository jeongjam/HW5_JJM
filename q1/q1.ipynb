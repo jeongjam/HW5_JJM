{
 "cells": [
  {
   "cell_type": "code",
   "execution_count": 14,
   "id": "2926a4b0",
   "metadata": {},
   "outputs": [
    {
     "name": "stdout",
     "output_type": "stream",
     "text": [
      "*** Annual Temperature Report for Seoul in 2022 ***\n",
      "Average Temperature: 13.26 Celsius\n",
      "Average Minimum Temperature: 9.21 Celsius\n",
      "Average Maximum Temperature: 18.05 Celsius\n"
     ]
    }
   ],
   "source": [
    "import csv\n",
    "\n",
    "def main():\n",
    "    f = open('2022_Seoul_Temp.csv', 'r', encoding='cp949')\n",
    "    data = csv.reader(f, delimiter=',')\n",
    "    header = next(data)\n",
    "\n",
    "    average_sum=0\n",
    "    lowest_sum=0\n",
    "    highest_sum=0\n",
    "    num=0\n",
    "\n",
    "    for row in data:\n",
    "        if row[-3]=='' or row[-2]=='' or row[-1]=='':\n",
    "            row[-3]=0\n",
    "            row[-2]=0\n",
    "            row[-1]=0\n",
    "        else:\n",
    "            row[-1] = float(row[-1])\n",
    "            row[-2] = float(row[-2])\n",
    "            row[-3] = float(row[-3])\n",
    "            average_sum += row[-3]\n",
    "            lowest_sum += row[-2]\n",
    "            highest_sum += row[-1]\n",
    "            num=num+1\n",
    "\n",
    "    ave_average=average_sum/num\n",
    "    ave_lowest=lowest_sum/num\n",
    "    ave_highest=highest_sum/num\n",
    "    ave_average=round(ave_average,2)\n",
    "    ave_lowest=round(ave_lowest,2)\n",
    "    ave_highest=round(ave_highest,2)\n",
    "    f.close()\n",
    "\n",
    "    print(\"*** Annual Temperature Report for Seoul in 2022 ***\")\n",
    "    print(\"Average Temperature: {0:.2f} Celsius\".format(ave_average))\n",
    "    print(\"Average Minimum Temperature: {0:.2f} Celsius\".format(ave_lowest))\n",
    "    print(\"Average Maximum Temperature: {0:.2f} Celsius\".format(ave_highest))\n",
    "\n",
    "if __name__==\"__main__\":\n",
    "    main()"
   ]
  },
  {
   "cell_type": "code",
   "execution_count": null,
   "id": "61f56196",
   "metadata": {},
   "outputs": [],
   "source": []
  }
 ],
 "metadata": {
  "kernelspec": {
   "display_name": "Python 3 (ipykernel)",
   "language": "python",
   "name": "python3"
  },
  "language_info": {
   "codemirror_mode": {
    "name": "ipython",
    "version": 3
   },
   "file_extension": ".py",
   "mimetype": "text/x-python",
   "name": "python",
   "nbconvert_exporter": "python",
   "pygments_lexer": "ipython3",
   "version": "3.9.13"
  }
 },
 "nbformat": 4,
 "nbformat_minor": 5
}
